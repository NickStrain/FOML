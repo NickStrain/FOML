import numpy as np
import matplotlib.pyplot as plt
import pandas as pd



data = pd.read_csv(r"C:\Users\HDC0422089\Downloads\train.csv")


data


data.isnull().sum()


data = data.dropna()


x= data['x']
y = data['y']

from sklearn.model_selection import train_test_split
x_train,x_test,y_train,y_test = train_test_split(x,y,random_state=42,test_size=0.2 )


x_train = np.array(x_train)
y_train = np.array(y_train)
x_train = x_train.reshape(-1,1)
y_train = y_train.reshape(-1,1)

x_test = np.array(x_test)
y_test = np.array(y_test)
x_test = x_test.reshape(-1,1)
y_test = y_test.reshape(-1,1)


from sklearn.linear_model import LinearRegression
model = LinearRegression()
model.fit(x_train,y_train)

y_pre = model.predict(x_test)



from sklearn.metrics import r2_score
print(r2_score(y_pre,y_test))



